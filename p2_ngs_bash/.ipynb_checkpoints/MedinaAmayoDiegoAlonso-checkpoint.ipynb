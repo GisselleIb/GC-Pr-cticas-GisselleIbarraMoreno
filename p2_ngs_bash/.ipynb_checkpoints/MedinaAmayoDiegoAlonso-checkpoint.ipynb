{
 "cells": [
  {
   "cell_type": "code",
   "execution_count": 1,
   "id": "405d3dd5",
   "metadata": {},
   "outputs": [
    {
     "ename": "SyntaxError",
     "evalue": "invalid syntax (3023349386.py, line 1)",
     "output_type": "error",
     "traceback": [
      "\u001b[0;36m  Input \u001b[0;32mIn [1]\u001b[0;36m\u001b[0m\n\u001b[0;31m    echo \"Hola mundo\"\u001b[0m\n\u001b[0m         ^\u001b[0m\n\u001b[0;31mSyntaxError\u001b[0m\u001b[0;31m:\u001b[0m invalid syntax\n"
     ]
    }
   ],
   "source": [
    "echo \"Hola mundo\""
   ]
  },
  {
   "cell_type": "markdown",
   "id": "1ea57f3c",
   "metadata": {},
   "source": [
    "# Comando para crear directorio"
   ]
  },
  {
   "cell_type": "code",
   "execution_count": null,
   "id": "341ce51f",
   "metadata": {},
   "outputs": [],
   "source": [
    "mkdir"
   ]
  },
  {
   "cell_type": "markdown",
   "id": "2e39a2c6",
   "metadata": {},
   "source": [
    "# Comando para ingresar a directorio"
   ]
  },
  {
   "cell_type": "code",
   "execution_count": null,
   "id": "0812d194",
   "metadata": {},
   "outputs": [],
   "source": [
    "cd "
   ]
  },
  {
   "cell_type": "markdown",
   "id": "b797cc12",
   "metadata": {},
   "source": [
    "# Comando para imprimir ruta"
   ]
  },
  {
   "cell_type": "code",
   "execution_count": 2,
   "id": "044aaa43",
   "metadata": {},
   "outputs": [
    {
     "name": "stdout",
     "output_type": "stream",
     "text": [
      "/home/al0nso/Documentos/Alonso/UNAM/Carrera/8vo_Semestre/GenomicaComputacional/Laboratorio/Practica03/src\n"
     ]
    }
   ],
   "source": [
    "pwd"
   ]
  },
  {
   "cell_type": "markdown",
   "id": "d3f24e23",
   "metadata": {},
   "source": []
  },
  {
   "cell_type": "markdown",
   "id": "9f58487c",
   "metadata": {},
   "source": [
    "# Comando para conocer shell"
   ]
  },
  {
   "cell_type": "code",
   "execution_count": 5,
   "id": "78da271d",
   "metadata": {},
   "outputs": [
    {
     "name": "stdout",
     "output_type": "stream",
     "text": [
      "/usr/bin/bash\n"
     ]
    }
   ],
   "source": [
    "echo $0"
   ]
  },
  {
   "cell_type": "markdown",
   "id": "2bb5674d",
   "metadata": {},
   "source": [
    "# Comando para crear directorios"
   ]
  },
  {
   "cell_type": "code",
   "execution_count": 19,
   "id": "7a573e2e",
   "metadata": {},
   "outputs": [
    {
     "name": "stdout",
     "output_type": "stream",
     "text": [
      "mkdir: no se puede crear el directorio «raw_data»: El archivo ya existe\n",
      "mkdir: no se puede crear el directorio «filtered»: El archivo ya existe\n",
      "mkdir: no se puede crear el directorio «meta»: El archivo ya existe\n",
      "mkdir: no se puede crear el directorio «scripts»: El archivo ya existe\n",
      "mkdir: no se puede crear el directorio «figures»: El archivo ya existe\n"
     ]
    },
    {
     "ename": "",
     "evalue": "1",
     "output_type": "error",
     "traceback": []
    }
   ],
   "source": [
    "mkdir data raw_data filtered meta scripts figures archive"
   ]
  },
  {
   "cell_type": "markdown",
   "id": "aa73760c",
   "metadata": {},
   "source": [
    "# Comando para mover raw_data y filtered"
   ]
  },
  {
   "cell_type": "code",
   "execution_count": 28,
   "id": "c79173e6",
   "metadata": {},
   "outputs": [
    {
     "name": "stdout",
     "output_type": "stream",
     "text": [
      "mv: no se puede efectuar `stat' sobre 'raw_data': No existe el archivo o el directorio\n",
      "mv: no se puede efectuar `stat' sobre 'filtered': No existe el archivo o el directorio\n"
     ]
    },
    {
     "ename": "",
     "evalue": "1",
     "output_type": "error",
     "traceback": []
    }
   ],
   "source": [
    "mv -t data raw_data filtered"
   ]
  },
  {
   "cell_type": "markdown",
   "id": "d089df37",
   "metadata": {},
   "source": []
  }
 ],
 "metadata": {
  "kernelspec": {
   "display_name": "Python 3 (ipykernel)",
   "language": "python",
   "name": "python3"
  },
  "language_info": {
   "codemirror_mode": {
    "name": "ipython",
    "version": 3
   },
   "file_extension": ".py",
   "mimetype": "text/x-python",
   "name": "python",
   "nbconvert_exporter": "python",
   "pygments_lexer": "ipython3",
   "version": "3.8.10"
  }
 },
 "nbformat": 4,
 "nbformat_minor": 5
}
