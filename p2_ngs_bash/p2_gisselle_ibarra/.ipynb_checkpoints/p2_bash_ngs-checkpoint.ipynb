{
 "cells": [
  {
   "cell_type": "markdown",
   "id": "9b3c048f",
   "metadata": {},
   "source": [
    "# Práctica 2: Bash y NGS\n",
    "\n",
    "## Indicaciones de entrega\n",
    "\n",
    "Ésta práctica es **individual** (pero se pueden copiar XD) y se entrega en la sección de Classroom correspondiente. Se entregará una carpeta comprimida con la siguiente estructura en el nombre `p2_nombre_apellido.zip`. Ésta carpeta contendrá:\n",
    "\n",
    "1. Un archivo `.ipynb`o un archivo `.md` el cual contedrá a su vez los **comandos** y los **outputs** obtenidos durante el desarrollo de la práctica. Sin importar el formato que elijan, **CUIDAR** que el código y los outputs estén en formato de código. Si tienen dudas pueden consultar [ésta guia](https://www.markdownguide.org/basic-syntax/).\n",
    "2. Todas las carpetas y archivos que se vayan describiendo en ésta práctica. **CUIDAR** la estructura solicitada para cada archivo.\n",
    "\n",
    "`Jupyter Notebook` tiene la opción de conectar el kernel de bash a través de los siguientes comandos (se debe tener instalado `Python` y `pip`):\n",
    "\n",
    "```\n",
    "pip install bash_kernel\n",
    "python -m bash_kernel.install\n",
    "```\n",
    "Si conectas el Kernel de Bash a tu Jupyter Notebook no te tendrás que preocupar por poner los outputs porque saldrán de manera automática. Ejemplo: \n"
   ]
  },
  {
   "cell_type": "code",
   "execution_count": 1,
   "id": "1e25a8ff",
   "metadata": {},
   "outputs": [
    {
     "name": "stdout",
     "output_type": "stream",
     "text": [
      "Hola mundo\n"
     ]
    }
   ],
   "source": [
    "%%bash\n",
    "echo \"Hola mundo\""
   ]
  },
  {
   "cell_type": "markdown",
   "id": "1dd1f9ad",
   "metadata": {},
   "source": [
    "Puedes descargar ésta libreta de `Jupyter` para hacer tu práctica, por el contrario, si decides hacerla en un archivo `md`, deberás colocar tu nombre, las preguntas, los comandos y los outputs, cada cosa con el formato que corresponda. "
   ]
  },
  {
   "cell_type": "markdown",
   "id": "0ece93de",
   "metadata": {},
   "source": [
    "### Gisselle Ibarra Moreno 315602193"
   ]
  },
  {
   "cell_type": "markdown",
   "id": "02ceb37a",
   "metadata": {},
   "source": [
    "## Parte I. Manejo de directorios\n",
    "\n",
    "* **Creación de directorios**: Inicia la terminal y colócate en el directorio de tus documentos. Crea un directorio llamado: `p2_nombre_apellido`. Ingresa a la carpeta `p2_nombre_apellido` e imprime la ruta absoluta de ésta. \n",
    "\n",
    "Nota: No olivedes que debes ser reportados todos los **outputs**."
   ]
  },
  {
   "cell_type": "code",
   "execution_count": 5,
   "id": "7c88b7d4",
   "metadata": {},
   "outputs": [],
   "source": [
    "%%bash\n",
    "mkdir p2_gisselle_ibarra"
   ]
  },
  {
   "cell_type": "code",
   "execution_count": 9,
   "id": "0db2aed9",
   "metadata": {},
   "outputs": [],
   "source": [
    "# Comando para ingresar a directorio\n",
    "!cd p2_gisselle_ibarra/"
   ]
  },
  {
   "cell_type": "code",
   "execution_count": 8,
   "id": "7f06ca13",
   "metadata": {},
   "outputs": [
    {
     "name": "stdout",
     "output_type": "stream",
     "text": [
      "/home/gisselleibarra/Documents/GenómicaComputacional/Practicas/Practica2\r\n"
     ]
    }
   ],
   "source": [
    "# Comando para imprimir ruta\n",
    "!pwd"
   ]
  },
  {
   "cell_type": "markdown",
   "id": "c64df08d",
   "metadata": {},
   "source": [
    "* Indica que tipo de shell tiene tu computadora. Visita [el siguiente sitio](https://askubuntu.com/questions/590899/how-do-i-check-which-shell-i-am-using) para conocer el comando. \n"
   ]
  },
  {
   "cell_type": "code",
   "execution_count": 14,
   "id": "bbf2347a",
   "metadata": {},
   "outputs": [
    {
     "name": "stdout",
     "output_type": "stream",
     "text": [
      "/bin/bash\r\n"
     ]
    }
   ],
   "source": [
    "# Comando para conocer shell\n",
    "!echo $SHELL"
   ]
  },
  {
   "cell_type": "markdown",
   "id": "46ae418b",
   "metadata": {},
   "source": [
    "* Un proyecto bioinformático que se quiere publicar, debe estar bien documentado y organizado. Dentro de tu carpeta de trabajo crea en una sola línea las siguientes directorios `data`, `raw_data`, `filtered`, `meta`, `scripts`, `figures`, `archive`. Después mueve `raw_data` y `filtered` dentro de `data`. "
   ]
  },
  {
   "cell_type": "code",
   "execution_count": 15,
   "id": "9fd3029f",
   "metadata": {},
   "outputs": [],
   "source": [
    "# Comando para crear directorios\n",
    "!mkdir data raw_data filtered meta scripts figures archive"
   ]
  },
  {
   "cell_type": "code",
   "execution_count": 16,
   "id": "82572593",
   "metadata": {},
   "outputs": [],
   "source": [
    "# Comando para mover raw_data y filtered\n",
    "!mv raw_data data/\n",
    "!mv filtered data/"
   ]
  },
  {
   "cell_type": "markdown",
   "id": "804f8b58",
   "metadata": {},
   "source": [
    "* Visita [el siguiente repositorio](https://github.com/u-genoma/BioinfinvRepro/blob/master/Unidad2/Unidad2_Organizacion_proyecto_bioinf.md) de `GitHub` y contesta ¿A qué se debe el nombre y la organización de los directorios que acabamos de crear? "
   ]
  },
  {
   "cell_type": "markdown",
   "id": "85f61dff",
   "metadata": {},
   "source": [
    "Cada uno de los directorios se organizan y almacenan cierto tipo de archivos para que no se revuelvan unos con otros.\n",
    "\n",
    "1. **data**: Aquí se guardan todos los datos del proyecto:\n",
    "  - raw_data: Guarda los datos \"crudos\" o sin modificar\n",
    "  - filtered: Guarda los datos ya filtrados\n",
    "  \n",
    "2. **meta**: Aquí se guardan todos los metadatos o archivos necesarios para procesar la información\n",
    "3. **scripts**: Aquí se guardan los scripts y código del proyecto\n",
    "4. **figures**: Aquí se guarda el código necesario para crear las figuras del proyecto\n",
    "5. **archive**: Aquí se guarda el código que posiblemente ya no se necesitan, pero se guardan por si acaso"
   ]
  },
  {
   "cell_type": "markdown",
   "id": "f9093c8c",
   "metadata": {},
   "source": [
    "## Parte II.  Manejo de archivos\n",
    "\n",
    "En ésta parte trabajarás con secuencias genómicas de un organismo de tu interés (te sugiero que sea una bacteria, arquea o virus (excepto SARS-COV2) por el tamaño de los archivos). De ese organismo deberás conseguir: \n",
    "\n",
    "1. El archivo crudo (`fastq`). Para conseguir este archivo puedes consultar el base de datos de [SRA](https://www.ncbi.nlm.nih.gov/sra) o el [ENA](https://www.ebi.ac.uk/ena/browser/home). \n",
    "2. La secuencia de DNA (`fasta`).\n",
    "3. El archivo con genes anotados (`gff`).\n",
    "4. Un archivo con la descripción del proyecto, puede ser un Genbank o similar. \n",
    "\n",
    "* Guarda cada archivo con la siguiente estructura: `nombre_bicho.formato` (en `nombre_bicho` tienes que poner el nombre científico del organismo que elegiste).\n",
    "* Descarga éstos cuatro archivos en tu carpeta `p2_nombre_apellido`.\n",
    "\n"
   ]
  },
  {
   "cell_type": "markdown",
   "id": "68f7b5c0",
   "metadata": {},
   "source": [
    "* Cuéntame sobre el organismo que elegiste, elabora un resumen de 120 palabras de ese bicho."
   ]
  },
  {
   "cell_type": "markdown",
   "id": "81bd6f62",
   "metadata": {},
   "source": []
  },
  {
   "cell_type": "markdown",
   "id": "15bdf2ae",
   "metadata": {},
   "source": [
    "* ¿Existe una publicación sobre la secuenciación y ensamblado de su genoma? Colóca la fuente en formato APA. "
   ]
  },
  {
   "cell_type": "markdown",
   "id": "568222a8",
   "metadata": {},
   "source": []
  },
  {
   "cell_type": "markdown",
   "id": "374b9947",
   "metadata": {},
   "source": [
    "* ¿Qué plataforma de secuenciación se utilizó? Explica brevemente las características de esa plataforma de secuenciación. "
   ]
  },
  {
   "cell_type": "markdown",
   "id": "21661297",
   "metadata": {},
   "source": []
  },
  {
   "cell_type": "markdown",
   "id": "af3477f4",
   "metadata": {},
   "source": [
    "* Mueve tus cuatro archivos a la carpeta de `raw_data` y has un `ls` con formato largo y legible para humanos. Después copia el archivo `gff` a tu carpeta `filtered.`"
   ]
  },
  {
   "cell_type": "code",
   "execution_count": 1,
   "id": "e161e7dd",
   "metadata": {},
   "outputs": [],
   "source": [
    "# Comando para mover archivos\n",
    "!mv rabies_lyssavirus.* data/raw_data"
   ]
  },
  {
   "cell_type": "code",
   "execution_count": 3,
   "id": "69a5c515",
   "metadata": {},
   "outputs": [
    {
     "name": "stdout",
     "output_type": "stream",
     "text": [
      "total 44K\r\n",
      "-rw-rw-r-- 1 gisselleibarra gisselleibarra  12K May 11 22:41 rabies_lyssavirus.fasta\r\n",
      "-rw-rw-r-- 1 gisselleibarra gisselleibarra  25K May 11 22:41 rabies_lyssavirus.gb\r\n",
      "-rw-rw-r-- 1 gisselleibarra gisselleibarra 3.5K May 11 22:41 rabies_lyssavirus.gff3\r\n"
     ]
    }
   ],
   "source": [
    "# Comando para listado largo y legible para humanos\n",
    "!ls data/raw_data -lh"
   ]
  },
  {
   "cell_type": "code",
   "execution_count": 5,
   "id": "08fce6d5",
   "metadata": {},
   "outputs": [
    {
     "name": "stdout",
     "output_type": "stream",
     "text": [
      "archive  data  figures\tmeta  p2_bash_ngs.ipynb  p2_gisselle_ibarra  scripts\n",
      "cp: cannot stat 'data/raw_data/rabies_lyssavirus.gff': No such file or directory\n"
     ]
    }
   ],
   "source": [
    "# Comando para copiar archivo gff\n",
    "!ls\n",
    "!cp data/raw_data/rabies_lyssavirus.gff data/filtered"
   ]
  },
  {
   "cell_type": "markdown",
   "id": "e275127c",
   "metadata": {},
   "source": [
    "* Explora tus tres archivos (`fastq`,`fasta`, y `gff`) , utiliza un comando para ver las primeras 12 líneas de cada archivo."
   ]
  },
  {
   "cell_type": "code",
   "execution_count": null,
   "id": "7a8504c6",
   "metadata": {},
   "outputs": [],
   "source": [
    "# Comando para ver fastq\n",
    "!head -n 12 data/raw_data/rabies_lyssavirus.fastq"
   ]
  },
  {
   "cell_type": "code",
   "execution_count": null,
   "id": "c26404c2",
   "metadata": {},
   "outputs": [],
   "source": [
    "# Comando para ver fasta\n",
    "!head -n 12 data/raw_data/rabies_lyssavirus.fasta"
   ]
  },
  {
   "cell_type": "code",
   "execution_count": null,
   "id": "892105cb",
   "metadata": {},
   "outputs": [],
   "source": [
    "# Comando para ver gff\n",
    "!head -n 12 data/raw_data/rabies_lyssavirus.gff"
   ]
  },
  {
   "cell_type": "markdown",
   "id": "863add6f",
   "metadata": {},
   "source": [
    "* Ya que los exploraste, identifica un caracter en los archivos `fastq` y `fasta` que te ayuden a contar el número de secuencias que contiene cada uno. Ahora, utilliza un comando para conocer el número de secuencias en cada archivo. "
   ]
  },
  {
   "cell_type": "code",
   "execution_count": null,
   "id": "5749e984",
   "metadata": {},
   "outputs": [],
   "source": [
    "# Comando para contar secuencias en fastq"
   ]
  },
  {
   "cell_type": "code",
   "execution_count": null,
   "id": "65ad7b75",
   "metadata": {},
   "outputs": [],
   "source": [
    "# Comando para contar secuencias en fasta"
   ]
  },
  {
   "cell_type": "markdown",
   "id": "27951c48",
   "metadata": {},
   "source": [
    "* Explica la diferencia entre los formatos `faa`, `fna`, `fastq`, `fasta` y `gff`"
   ]
  },
  {
   "cell_type": "markdown",
   "id": "c4c5eebc",
   "metadata": {},
   "source": []
  },
  {
   "cell_type": "markdown",
   "id": "e3a3869f",
   "metadata": {},
   "source": [
    "* Abre el archivo `gff` de las siguientes formas `less archivo.gff3` y `less -S archivo.gff3`. Observa las diferencias y explicalas. "
   ]
  },
  {
   "cell_type": "code",
   "execution_count": null,
   "id": "4c110f31",
   "metadata": {},
   "outputs": [],
   "source": [
    "# less archivo.gff3"
   ]
  },
  {
   "cell_type": "code",
   "execution_count": null,
   "id": "1aeceaf0",
   "metadata": {},
   "outputs": [],
   "source": [
    "# less -S archivo.gff3"
   ]
  },
  {
   "cell_type": "markdown",
   "id": "ff644892",
   "metadata": {},
   "source": []
  },
  {
   "cell_type": "markdown",
   "id": "3ae3acd0",
   "metadata": {},
   "source": [
    "* Entra a tu carpeta de `filtered` utilizando una ruta relativa. "
   ]
  },
  {
   "cell_type": "code",
   "execution_count": null,
   "id": "b0760858",
   "metadata": {},
   "outputs": [],
   "source": [
    "# Comando"
   ]
  },
  {
   "cell_type": "markdown",
   "id": "05e29667",
   "metadata": {},
   "source": [
    "* Cambia el nombre del archivo que tienes aquí por `cp_nombre_bicho.gff` (en `nombre_bicho` tienes que poner el nombre científico del organismo que elegiste)."
   ]
  },
  {
   "cell_type": "code",
   "execution_count": 2,
   "id": "8f115cc1",
   "metadata": {},
   "outputs": [],
   "source": [
    "# Comando para cambiar nombre de un archivo"
   ]
  },
  {
   "cell_type": "markdown",
   "id": "0fb010a5",
   "metadata": {},
   "source": [
    "* Filtra el tercer campo de tu archivo `gff` por la categoría `gene` y reporta la cantidad de genes que tiene el archivo. Contesta: \n",
    "\n",
    "1. ¿A qué corresponde el campo tres? \n",
    "2. ¿Cuál es la diferencia entre gene y CDS?"
   ]
  },
  {
   "cell_type": "code",
   "execution_count": null,
   "id": "88dd5a4a",
   "metadata": {},
   "outputs": [],
   "source": [
    "# Comando para concer cuántos genes hay"
   ]
  },
  {
   "cell_type": "markdown",
   "id": "fd3e0004",
   "metadata": {},
   "source": []
  },
  {
   "cell_type": "markdown",
   "id": "f9c99f53",
   "metadata": {},
   "source": [
    "## Parte III. Visualización con Python"
   ]
  },
  {
   "cell_type": "markdown",
   "id": "5498391f",
   "metadata": {},
   "source": [
    "* En tu archivo `gff`, identifica cuántas categorías distintas existen en el campo 3 y cuántas veces aparecen. Redirecciona la salida a un archivo que se llame `barplot_data.txt`"
   ]
  },
  {
   "cell_type": "code",
   "execution_count": 4,
   "id": "ca6c6c5e",
   "metadata": {},
   "outputs": [],
   "source": [
    "# Comando"
   ]
  },
  {
   "cell_type": "markdown",
   "id": "f0d4427e",
   "metadata": {},
   "source": [
    "* Crea una figura a partir de `barplot_data.txt`, para esto puedes utiliza el siguiete script de Python para generar una figura. \n",
    "\n",
    "```python\n",
    "\n",
    "import numpy as np\n",
    "import matplotlib.pyplot as plt\n",
    "from textwrap import wrap\n",
    "\n",
    "# Crea el dataset con tus datos obtenidos en barplot_data.txt\n",
    "frecuencias = [3, 12, 5, 18, 45]\n",
    "# Cambia el nombre de las categorías por las que obtuviste no lo dejes como \"Categoría A\", etc.\n",
    "categorias = ['Categoría A', 'Categoría B', 'Categoría C', 'Categoría D', 'Categoría E']\n",
    "categorias = [ ''.join(wrap(l, 11)) for l in categorias]\n",
    "\n",
    "y_pos = np.arange(len(categorias))\n",
    "\n",
    "# Gráfico de barras\n",
    "plt.bar(y_pos, frecuencias)\n",
    "\n",
    "# Nombres en el eje-x\n",
    "plt.xticks(y_pos, categorias)\n",
    "\n",
    "# Mostrar la gráfica\n",
    "plt.show()\n",
    "\n",
    "```\n",
    "\n",
    "También puedes generar tu figura con R o Julia, **prohibido** usar Excel.\n",
    "\n",
    "* Guarda la figura en tu carpeta `figures` con el nombre `barplot.png`.\n",
    "* Guardar el código que utilizaste en la carpeta `scripts`, lo puedes guardar en cualquier formato. "
   ]
  },
  {
   "cell_type": "markdown",
   "id": "b4cd5fba",
   "metadata": {},
   "source": [
    "* Guarda tu libreta de `Jupyter` o tu `md` con tu nombre, las preguntas, los comandos y los outputs en la carpeta `scripts`. \n",
    "\n",
    "* Comprime tu carpeta `p2_nombre_apellido` y súbela en la sección de Classroom correspondiente."
   ]
  }
 ],
 "metadata": {
  "kernelspec": {
   "display_name": "Python 3 (ipykernel)",
   "language": "python",
   "name": "python3"
  },
  "language_info": {
   "codemirror_mode": {
    "name": "ipython",
    "version": 3
   },
   "file_extension": ".py",
   "mimetype": "text/x-python",
   "name": "python",
   "nbconvert_exporter": "python",
   "pygments_lexer": "ipython3",
   "version": "3.8.10"
  }
 },
 "nbformat": 4,
 "nbformat_minor": 5
}
