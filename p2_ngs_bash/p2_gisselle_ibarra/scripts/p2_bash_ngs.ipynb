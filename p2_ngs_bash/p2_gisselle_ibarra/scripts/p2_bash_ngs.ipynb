{
 "cells": [
  {
   "cell_type": "markdown",
   "id": "9b3c048f",
   "metadata": {},
   "source": [
    "# Práctica 2: Bash y NGS\n",
    "\n",
    "## Indicaciones de entrega\n",
    "\n",
    "Ésta práctica es **individual** (pero se pueden copiar XD) y se entrega en la sección de Classroom correspondiente. Se entregará una carpeta comprimida con la siguiente estructura en el nombre `p2_nombre_apellido.zip`. Ésta carpeta contendrá:\n",
    "\n",
    "1. Un archivo `.ipynb`o un archivo `.md` el cual contedrá a su vez los **comandos** y los **outputs** obtenidos durante el desarrollo de la práctica. Sin importar el formato que elijan, **CUIDAR** que el código y los outputs estén en formato de código. Si tienen dudas pueden consultar [ésta guia](https://www.markdownguide.org/basic-syntax/).\n",
    "2. Todas las carpetas y archivos que se vayan describiendo en ésta práctica. **CUIDAR** la estructura solicitada para cada archivo.\n",
    "\n",
    "`Jupyter Notebook` tiene la opción de conectar el kernel de bash a través de los siguientes comandos (se debe tener instalado `Python` y `pip`):\n",
    "\n",
    "```\n",
    "pip install bash_kernel\n",
    "python -m bash_kernel.install\n",
    "```\n",
    "Si conectas el Kernel de Bash a tu Jupyter Notebook no te tendrás que preocupar por poner los outputs porque saldrán de manera automática. Ejemplo: \n"
   ]
  },
  {
   "cell_type": "code",
   "execution_count": 1,
   "id": "1e25a8ff",
   "metadata": {},
   "outputs": [
    {
     "name": "stdout",
     "output_type": "stream",
     "text": [
      "Hola mundo\n"
     ]
    }
   ],
   "source": [
    "%%bash\n",
    "echo \"Hola mundo\""
   ]
  },
  {
   "cell_type": "markdown",
   "id": "1dd1f9ad",
   "metadata": {},
   "source": [
    "Puedes descargar ésta libreta de `Jupyter` para hacer tu práctica, por el contrario, si decides hacerla en un archivo `md`, deberás colocar tu nombre, las preguntas, los comandos y los outputs, cada cosa con el formato que corresponda. "
   ]
  },
  {
   "cell_type": "markdown",
   "id": "0ece93de",
   "metadata": {},
   "source": [
    "### Gisselle Ibarra Moreno 315602193"
   ]
  },
  {
   "cell_type": "markdown",
   "id": "02ceb37a",
   "metadata": {},
   "source": [
    "## Parte I. Manejo de directorios\n",
    "\n",
    "* **Creación de directorios**: Inicia la terminal y colócate en el directorio de tus documentos. Crea un directorio llamado: `p2_nombre_apellido`. Ingresa a la carpeta `p2_nombre_apellido` e imprime la ruta absoluta de ésta. \n",
    "\n",
    "Nota: No olivedes que debes ser reportados todos los **outputs**."
   ]
  },
  {
   "cell_type": "code",
   "execution_count": 5,
   "id": "7c88b7d4",
   "metadata": {},
   "outputs": [],
   "source": [
    "# Comando para crear directorio\n",
    "!mkdir p2_gisselle_ibarra"
   ]
  },
  {
   "cell_type": "code",
   "execution_count": 9,
   "id": "0db2aed9",
   "metadata": {},
   "outputs": [],
   "source": [
    "# Comando para ingresar a directorio\n",
    "!cd p2_gisselle_ibarra/"
   ]
  },
  {
   "cell_type": "code",
   "execution_count": 9,
   "id": "7f06ca13",
   "metadata": {},
   "outputs": [
    {
     "name": "stdout",
     "output_type": "stream",
     "text": [
      "/home/gisselleibarra/Documents/GenómicaComputacional/Practicas/Practica2/p2_gisselle_ibarra\r\n"
     ]
    }
   ],
   "source": [
    "# Comando para imprimir ruta\n",
    "!pwd"
   ]
  },
  {
   "cell_type": "markdown",
   "id": "c64df08d",
   "metadata": {},
   "source": [
    "* Indica que tipo de shell tiene tu computadora. Visita [el siguiente sitio](https://askubuntu.com/questions/590899/how-do-i-check-which-shell-i-am-using) para conocer el comando. \n"
   ]
  },
  {
   "cell_type": "code",
   "execution_count": 14,
   "id": "bbf2347a",
   "metadata": {},
   "outputs": [
    {
     "name": "stdout",
     "output_type": "stream",
     "text": [
      "/bin/bash\r\n"
     ]
    }
   ],
   "source": [
    "# Comando para conocer shell\n",
    "!echo $SHELL"
   ]
  },
  {
   "cell_type": "markdown",
   "id": "46ae418b",
   "metadata": {},
   "source": [
    "* Un proyecto bioinformático que se quiere publicar, debe estar bien documentado y organizado. Dentro de tu carpeta de trabajo crea en una sola línea las siguientes directorios `data`, `raw_data`, `filtered`, `meta`, `scripts`, `figures`, `archive`. Después mueve `raw_data` y `filtered` dentro de `data`. "
   ]
  },
  {
   "cell_type": "code",
   "execution_count": 15,
   "id": "9fd3029f",
   "metadata": {},
   "outputs": [],
   "source": [
    "# Comando para crear directorios\n",
    "!mkdir data raw_data filtered meta scripts figures archive"
   ]
  },
  {
   "cell_type": "code",
   "execution_count": 16,
   "id": "82572593",
   "metadata": {},
   "outputs": [],
   "source": [
    "# Comando para mover raw_data y filtered\n",
    "!mv raw_data data/\n",
    "!mv filtered data/"
   ]
  },
  {
   "cell_type": "markdown",
   "id": "804f8b58",
   "metadata": {},
   "source": [
    "* Visita [el siguiente repositorio](https://github.com/u-genoma/BioinfinvRepro/blob/master/Unidad2/Unidad2_Organizacion_proyecto_bioinf.md) de `GitHub` y contesta ¿A qué se debe el nombre y la organización de los directorios que acabamos de crear? "
   ]
  },
  {
   "cell_type": "markdown",
   "id": "85f61dff",
   "metadata": {},
   "source": [
    "Cada uno de los directorios se organizan y almacenan cierto tipo de archivos para que no se revuelvan unos con otros.\n",
    "\n",
    "1. **data**: Aquí se guardan todos los datos del proyecto:\n",
    "  - raw_data: Guarda los datos \"crudos\" o sin modificar\n",
    "  - filtered: Guarda los datos ya filtrados\n",
    "  \n",
    "2. **meta**: Aquí se guardan todos los metadatos o archivos necesarios para procesar la información\n",
    "3. **scripts**: Aquí se guardan los scripts y código del proyecto\n",
    "4. **figures**: Aquí se guarda el código necesario para crear las figuras del proyecto\n",
    "5. **archive**: Aquí se guarda el código que posiblemente ya no se necesitan, pero se guardan por si acaso"
   ]
  },
  {
   "cell_type": "markdown",
   "id": "f9093c8c",
   "metadata": {},
   "source": [
    "## Parte II.  Manejo de archivos\n",
    "\n",
    "En ésta parte trabajarás con secuencias genómicas de un organismo de tu interés (te sugiero que sea una bacteria, arquea o virus (excepto SARS-COV2) por el tamaño de los archivos). De ese organismo deberás conseguir: \n",
    "\n",
    "1. El archivo crudo (`fastq`). Para conseguir este archivo puedes consultar el base de datos de [SRA](https://www.ncbi.nlm.nih.gov/sra) o el [ENA](https://www.ebi.ac.uk/ena/browser/home). \n",
    "2. La secuencia de DNA (`fasta`).\n",
    "3. El archivo con genes anotados (`gff`).\n",
    "4. Un archivo con la descripción del proyecto, puede ser un Genbank o similar. \n",
    "\n",
    "* Guarda cada archivo con la siguiente estructura: `nombre_bicho.formato` (en `nombre_bicho` tienes que poner el nombre científico del organismo que elegiste).\n",
    "* Descarga éstos cuatro archivos en tu carpeta `p2_nombre_apellido`.\n",
    "\n"
   ]
  },
  {
   "cell_type": "markdown",
   "id": "68f7b5c0",
   "metadata": {},
   "source": [
    "* Cuéntame sobre el organismo que elegiste, elabora un resumen de 120 palabras de ese bicho."
   ]
  },
  {
   "cell_type": "markdown",
   "id": "81bd6f62",
   "metadata": {},
   "source": [
    "*Rabies lyssavirus*, mejor conocido como rabia, es un virus con forma de bala que solo tiene una cadena de ARN, mide aproximadamente 75 nanómetros de diámetro y 180 nm de longitud. Se ha difundido por todo el mundo y ataca a mamíferos. Se suele encontrar en las secreciones, como la saliva, de los individuos infectados y ataca principalmente el sistema nervioso. Se suele transmitir mediante lesiones como mordeduras o con el contacto de una lesión abierta y la saliva del infectado.\n",
    "\n",
    "Es sensible a la luz solar, por lo que se inactiva al liberarse al ambiente, pero puede sobrevivir hasta 24 horas a temperatura ambiente en saliva. Se ha registrado que pueden sobrevivir periodos cortos de tiempo en tejidos, sangre seca y cadáveres."
   ]
  },
  {
   "cell_type": "markdown",
   "id": "15bdf2ae",
   "metadata": {},
   "source": [
    "* ¿Existe una publicación sobre la secuenciación y ensamblado de su genoma? Colóca la fuente en formato APA. "
   ]
  },
  {
   "cell_type": "markdown",
   "id": "568222a8",
   "metadata": {},
   "source": [
    "Tordo, N., Poch, O., Ermine, A., Keith, G., & Rougeon, F. (1988). Completion of the rabies virus genome sequence determination: highly conserved domains among the L (polymerase) proteins of unsegmented negative-strand RNA viruses. Virology, 165(2), 565–576. https://doi.org/10.1016/0042-6822(88)90600-9"
   ]
  },
  {
   "cell_type": "markdown",
   "id": "374b9947",
   "metadata": {},
   "source": [
    "* ¿Qué plataforma de secuenciación se utilizó? Explica brevemente las características de esa plataforma de secuenciación. "
   ]
  },
  {
   "cell_type": "markdown",
   "id": "21661297",
   "metadata": {},
   "source": [
    "Se utilizó Illumina MiSeq"
   ]
  },
  {
   "cell_type": "markdown",
   "id": "af3477f4",
   "metadata": {},
   "source": [
    "* Mueve tus cuatro archivos a la carpeta de `raw_data` y has un `ls` con formato largo y legible para humanos. Después copia el archivo `gff` a tu carpeta `filtered.`"
   ]
  },
  {
   "cell_type": "code",
   "execution_count": 12,
   "id": "e161e7dd",
   "metadata": {},
   "outputs": [],
   "source": [
    "# Comando para mover archivos\n",
    "!mv rabies_lyssavirus.* data/raw_data"
   ]
  },
  {
   "cell_type": "code",
   "execution_count": 13,
   "id": "69a5c515",
   "metadata": {},
   "outputs": [
    {
     "name": "stdout",
     "output_type": "stream",
     "text": [
      "total 240M\r\n",
      "-rw-rw-r-- 1 gisselleibarra gisselleibarra  12K May 11 22:41 rabies_lyssavirus.fasta\r\n",
      "-rw-rw-r-- 1 gisselleibarra gisselleibarra 240M May 12 13:58 rabies_lyssavirus.fastq\r\n",
      "-rw-rw-r-- 1 gisselleibarra gisselleibarra  25K May 11 22:41 rabies_lyssavirus.gb\r\n",
      "-rw-rw-r-- 1 gisselleibarra gisselleibarra 3.5K May 11 22:41 rabies_lyssavirus.gff3\r\n"
     ]
    }
   ],
   "source": [
    "# Comando para listado largo y legible para humanos\n",
    "!ls data/raw_data -lh"
   ]
  },
  {
   "cell_type": "code",
   "execution_count": 14,
   "id": "08fce6d5",
   "metadata": {},
   "outputs": [],
   "source": [
    "# Comando para copiar archivo gff\n",
    "!cp data/raw_data/rabies_lyssavirus.gff3 data/filtered"
   ]
  },
  {
   "cell_type": "markdown",
   "id": "e275127c",
   "metadata": {},
   "source": [
    "* Explora tus tres archivos (`fastq`,`fasta`, y `gff`) , utiliza un comando para ver las primeras 12 líneas de cada archivo."
   ]
  },
  {
   "cell_type": "code",
   "execution_count": 15,
   "id": "7a8504c6",
   "metadata": {},
   "outputs": [
    {
     "name": "stdout",
     "output_type": "stream",
     "text": [
      "@SRR18960170.1.1 1 length=53\r\n",
      "TCATTAAGGAGTTGAATCGAGACAAAAAAAGATCTTTTAGCATAAGTGTATAG\r\n",
      "+SRR18960170.1.1 1 length=53\r\n",
      "CCCCCGGGGGGGGGGGGGGGGGGGGGGGGGGGGGGGGGGGGGGGGGGGGGGGG\r\n",
      "@SRR18960170.1.2 1 length=53\r\n",
      "CTATACACTTATGCTAAAAGATCTTTTTTTGTCTCGATTCAACTCCTTAATGA\r\n",
      "+SRR18960170.1.2 1 length=53\r\n",
      "CCCCCGGGGGGGGGGGGGGGGGGGGGGGGGGGGGGGGGGGGGGGGGGGGGGGG\r\n",
      "@SRR18960170.2.1 2 length=301\r\n",
      "CTTTAGAAGTGCTAAAATGACGTACCTGACCCTCATTACTTACCAGTCTCATCTCCTACTCCAGAGGGTTGAGAGAAATTTGTCTAAAGGTATGAGAGCTAGCCTGCGACAAATGAGTTCTTTAATGAGACAGGTGCTGGGTGGGCACGGAGAAGATACTTTAGAGTCCGACGACGACATTCAAAGATTACTAAAAGACTCCTTGCGGAGAACAAGGTGGGTGGATCAAGAAGTGCGCCATGCAGCTAGGACCATGACTGGAGATTACAGCCCCAACAAGAAAGTGTCTCGTGAGGCAGGA\r\n",
      "+SRR18960170.2.1 2 length=301\r\n",
      "CCCCCGGGGGGGGGGGGGGGGGGGGGGGGGGGGGGGGGGGGGGGGGGGGGGGGGGGGGGGGGGGGGFEGGGGGGGGGGGGGGGGGGGGGGGEDGGGGGDGGGGGGGGGGGGCGGGGGGGGGAFGGGGGGGGGGGG8FFG<FGGGGGGGGGGGGGGGGGGGGGGGGGGGFGGGGGGGGGGGGGGGGGGGGGGGGGGGFFCFGFCFFDCEEGGGGGGGGFGGGGGGGGGGGGGGGGGGGGGGGGGGGGGGFG?FFGGGFGFGG*:C7FCCGGCGGGGGDGGGGFGFGF7D?=?FFD35FFBE)\r\n"
     ]
    }
   ],
   "source": [
    "# Comando para ver fastq\n",
    "!head -n 12 data/raw_data/rabies_lyssavirus.fastq"
   ]
  },
  {
   "cell_type": "code",
   "execution_count": 16,
   "id": "c26404c2",
   "metadata": {},
   "outputs": [
    {
     "name": "stdout",
     "output_type": "stream",
     "text": [
      ">NC_001542.1 Rabies virus, complete genome\r\n",
      "ACGCTTAACAACCAGATCAAAGAAAAAACAGACAGCGTCAATGGCAGAGCAAAAATGTAACACCTCTACA\r\n",
      "ATGGATGCCGACAAGATTGTATTCAAAGTCAATAATCAGGTGGTCTCTTTGAAGCCTGAGATTATCGTGG\r\n",
      "ATCAATATGAGTACAAGTACCCTGCCATCAAAGATTTGAAAAAGCCCTGTATAACTCTAGGAAAGGCTCC\r\n",
      "CGATTTAAATAAAGCATACAAGTCAGTTTTATCATGCATGAGCGCCGCCAAACTTGATCCTGACGATGTA\r\n",
      "TGTTCCTATTTGGCGGCGGCAATGCAGTTTTTTGAGGGGACATGTCCGGAAGACTGGACCAGCTATGGAA\r\n",
      "TCGTGATTGCACGAAAAGGAGATAAGATCACCCCAGGTTCTCTGGTGGAGATAAAACGTACTGATGTAGA\r\n",
      "AGGGAATTGGGCTCTGACAGGAGGCATGGAACTGACAAGAGACCCCACTGTCCCTGAGCATGCGTCCTTA\r\n",
      "GTCGGTCTTCTCTTGAGTCTGTATAGGTTGAGCAAAATATCCGGGCAAAGCACTGGTAACTATAAGACAA\r\n",
      "ACATTGCAGACAGGATAGAGCAGATTTTTGAGACAGCCCCTTTTGTTAAAATCGTGGAACACCATACTCT\r\n",
      "AATGACAACTCACAAAATGTGTGCTAATTGGAGTACTATACCAAACTTCAGATTTTTGGCCGGAACCTAT\r\n",
      "GACATGTTTTTCTCCCGGATTGAGCATCTATATTCAGCAATCAGAGTGGGCACAGTTGTCACTGCTTATG\r\n"
     ]
    }
   ],
   "source": [
    "# Comando para ver fasta\n",
    "!head -n 12 data/raw_data/rabies_lyssavirus.fasta"
   ]
  },
  {
   "cell_type": "code",
   "execution_count": 17,
   "id": "892105cb",
   "metadata": {},
   "outputs": [
    {
     "name": "stdout",
     "output_type": "stream",
     "text": [
      "##sequence-region NC_001542.1 1 11932\r\n",
      "##species https://www.ncbi.nlm.nih.gov/Taxonomy/Browser/wwwtax.cgi?id=11292\r\n",
      "NC_001542.1\tRefSeq\tregion\t1\t11932\t.\t+\t.\tID=NC_001542.1:1..11932;Dbxref=taxon:11292;gbkey=Src;genome=genomic;mol_type=genomic RNA;old-name=Rabies virus\r\n",
      "NC_001542.1\tRefSeq\tgene\t59\t1482\t.\t+\t.\tID=gene-RABVgp1;Dbxref=GeneID:1489853;Name=RABVgp1;gbkey=Gene;gene_biotype=protein_coding;locus_tag=RABVgp1\r\n",
      "NC_001542.1\tRefSeq\tmRNA\t59\t1482\t.\t+\t.\tID=rna-RABVgp1;Parent=gene-RABVgp1;Dbxref=GeneID:1489853;gbkey=mRNA;locus_tag=RABVgp1;product=N mRNA\r\n",
      "NC_001542.1\tRefSeq\texon\t59\t1482\t.\t+\t.\tID=exon-RABVgp1-1;Parent=rna-RABVgp1;Dbxref=GeneID:1489853;gbkey=mRNA;locus_tag=RABVgp1;product=N mRNA\r\n",
      "NC_001542.1\tRefSeq\tCDS\t71\t1423\t.\t+\t0\tID=cds-NP_056793.1;Parent=rna-RABVgp1;Dbxref=Genbank:NP_056793.1,GeneID:1489853;Name=NP_056793.1;gbkey=CDS;locus_tag=RABVgp1;product=nucleoprotein N;protein_id=NP_056793.1\r\n",
      "NC_001542.1\tRefSeq\tgene\t1485\t2475\t.\t+\t.\tID=gene-RABVgp2;Dbxref=GeneID:1489854;Name=RABVgp2;gbkey=Gene;gene_biotype=protein_coding;locus_tag=RABVgp2\r\n",
      "NC_001542.1\tRefSeq\tmRNA\t1485\t2475\t.\t+\t.\tID=rna-RABVgp2;Parent=gene-RABVgp2;Dbxref=GeneID:1489854;gbkey=mRNA;locus_tag=RABVgp2;product=M1 mRNA\r\n",
      "NC_001542.1\tRefSeq\texon\t1485\t2475\t.\t+\t.\tID=exon-RABVgp2-1;Parent=rna-RABVgp2;Dbxref=GeneID:1489854;gbkey=mRNA;locus_tag=RABVgp2;product=M1 mRNA\r\n",
      "NC_001542.1\tRefSeq\tCDS\t1514\t2407\t.\t+\t0\tID=cds-NP_056794.1;Parent=rna-RABVgp2;Dbxref=Genbank:NP_056794.1,GeneID:1489854;Name=NP_056794.1;gbkey=CDS;locus_tag=RABVgp2;product=phosphoprotein M1;protein_id=NP_056794.1\r\n",
      "NC_001542.1\tRefSeq\tgene\t2481\t3285\t.\t+\t.\tID=gene-RABVgp3;Dbxref=GeneID:1489855;Name=RABVgp3;gbkey=Gene;gene_biotype=protein_coding;locus_tag=RABVgp3\r\n"
     ]
    }
   ],
   "source": [
    "# Comando para ver gff\n",
    "!head -n 12 data/raw_data/rabies_lyssavirus.gff3"
   ]
  },
  {
   "cell_type": "markdown",
   "id": "863add6f",
   "metadata": {},
   "source": [
    "* Ya que los exploraste, identifica un caracter en los archivos `fastq` y `fasta` que te ayuden a contar el número de secuencias que contiene cada uno. Ahora, utilliza un comando para conocer el número de secuencias en cada archivo. "
   ]
  },
  {
   "cell_type": "code",
   "execution_count": 27,
   "id": "5749e984",
   "metadata": {},
   "outputs": [
    {
     "name": "stdout",
     "output_type": "stream",
     "text": [
      "952083\r\n"
     ]
    }
   ],
   "source": [
    "# Comando para contar secuencias en fastq\n",
    "!awk '/[ATGC]+/{c++} END {print c}' data/raw_data/rabies_lyssavirus.fastq"
   ]
  },
  {
   "cell_type": "code",
   "execution_count": 24,
   "id": "65ad7b75",
   "metadata": {},
   "outputs": [
    {
     "name": "stdout",
     "output_type": "stream",
     "text": [
      "172\r\n"
     ]
    }
   ],
   "source": [
    "# Comando para contar secuencias en fasta\n",
    "!awk '/[ATGC]+/{c++} END {print c}' data/raw_data/rabies_lyssavirus.fasta"
   ]
  },
  {
   "cell_type": "markdown",
   "id": "27951c48",
   "metadata": {},
   "source": [
    "* Explica la diferencia entre los formatos `faa`, `fna`, `fastq`, `fasta` y `gff`"
   ]
  },
  {
   "cell_type": "markdown",
   "id": "c4c5eebc",
   "metadata": {},
   "source": [
    "Los archivos `faa`, `fna` y `fasta` pertenecen son del tipo **FASTA**. Este formato guarda secuencias en forma de ácido nucléicos o péptidos,  la primera línea del archivo aparece señalada por el símbolo \">\"\n",
    "y consta de la descripción de la secuencia en una única línea. El resto de los renglones representan la secuencia\n",
    "mediante códigos estándar de ácidos nucleicos y aminoácidos de la IUB/IUPAC.\n",
    "\n",
    "Los archivos `fastq` son del tipo **FASTQ**. Este formato guarda lecturas provenientes de la secuenciación y la\n",
    "puntuación de la calidad asociada a dichas lecturas, base por base. Este formato se divide por lecturas y a cada lectura le corresponde un renglon, el primer renglon se identifica con el símbolo \"@\" seguido del identificador de registro, el segundo renglon contiene la lectura de la secuencia, la tercera línea suele tener el símbolo \"+\" o \"\\*\" junto con el identificador de registro y por último, la cuarta línea indica la calidad de cada uno de los nucleótidos de la lectura.\n",
    "\n",
    "Los archivos `gff` son del tipo **GFF**. Este formato guarda la información necesaria para identifcar y describir los genes de una secuencia. Vienen las características y secuencias proteicas."
   ]
  },
  {
   "cell_type": "markdown",
   "id": "e3a3869f",
   "metadata": {},
   "source": [
    "* Abre el archivo `gff` de las siguientes formas `less archivo.gff3` y `less -S archivo.gff3`. Observa las diferencias y explicalas. "
   ]
  },
  {
   "cell_type": "code",
   "execution_count": 22,
   "id": "4c110f31",
   "metadata": {},
   "outputs": [
    {
     "name": "stdout",
     "output_type": "stream",
     "text": [
      "##sequence-region NC_001542.1 1 11932\n",
      "##species https://www.ncbi.nlm.nih.gov/Taxonomy/Browser/wwwtax.cgi?id=11292\n",
      "NC_001542.1     RefSeq  region  1       11932   .       +       .       ID=NC_001542.1:1..11932;Dbxref=taxon:11292;gbkey=Src;genome=genomic;mol_type=genomic RNA;old-name=Rabies virus\n",
      "NC_001542.1     RefSeq  gene    59      1482    .       +       .       ID=gene-RABVgp1;Dbxref=GeneID:1489853;Name=RABVgp1;gbkey=Gene;gene_biotype=protein_coding;locus_tag=RABVgp1\n",
      "NC_001542.1     RefSeq  mRNA    59      1482    .       +       .       ID=rna-RABVgp1;Parent=gene-RABVgp1;Dbxref=GeneID:1489853;gbkey=mRNA;locus_tag=RABVgp1;product=N mRNA\n",
      "NC_001542.1     RefSeq  exon    59      1482    .       +       .       ID=exon-RABVgp1-1;Parent=rna-RABVgp1;Dbxref=GeneID:1489853;gbkey=mRNA;locus_tag=RABVgp1;product=N mRNA\n",
      "NC_001542.1     RefSeq  CDS     71      1423    .       +       0       ID=cds-NP_056793.1;Parent=rna-RABVgp1;Dbxref=Genbank:NP_056793.1,GeneID:1489853;Name=NP_056793.1;gbkey=CDS;locus_tag=RABVgp1;product=nucleoprotein N;protein_id=NP_056793.1\n",
      "NC_001542.1     RefSeq  gene    1485    2475    .       +       .       ID=gene-RABVgp2;Dbxref=GeneID:1489854;Name=RABVgp2;gbkey=Gene;gene_biotype=protein_coding;locus_tag=RABVgp2\n",
      "\u001b[K:\u001b[K42.1     RefSeq  mRNA    1485    2475    .       +       .       ID=rna-RABVgp2;Parent=gene-RABVgp2;Dbxref=GeneID:1489854;gbkey=mRNA;locus_tag=RABVgp2;pr\u001b[7mdata/filtered/rabies_lyssavirus.gff3\u001b[m\u001b[K\u0007"
     ]
    }
   ],
   "source": [
    "# less archivo.gff3\n",
    "!less data/filtered/rabies_lyssavirus.gff3"
   ]
  },
  {
   "cell_type": "code",
   "execution_count": 20,
   "id": "1aeceaf0",
   "metadata": {},
   "outputs": [
    {
     "name": "stdout",
     "output_type": "stream",
     "text": [
      "##sequence-region NC_001542.1 1 11932\n",
      "##species https://www.ncbi.nlm.nih.gov/Taxonomy/Browser/wwwtax.cgi?id=11292\n",
      "NC_001542.1     RefSeq  region  1       11932   .       +       .       ID=NC_0\u001b[7m>\u001b[m\n",
      "NC_001542.1     RefSeq  gene    59      1482    .       +       .       ID=gene\u001b[7m>\u001b[m\n",
      "NC_001542.1     RefSeq  mRNA    59      1482    .       +       .       ID=rna-\u001b[7m>\u001b[m\n",
      "NC_001542.1     RefSeq  exon    59      1482    .       +       .       ID=exon\u001b[7m>\u001b[m\n",
      "NC_001542.1     RefSeq  CDS     71      1423    .       +       0       ID=cds-\u001b[7m>\u001b[m\n",
      "NC_001542.1     RefSeq  gene    1485    2475    .       +       .       ID=gene\u001b[7m>\u001b[m\n",
      "NC_001542.1     RefSeq  mRNA    1485    2475    .       +       .       ID=rna-\u001b[7m>\u001b[m\n",
      "NC_001542.1     RefSeq  exon    1485    2475    .       +       .       ID=exon\u001b[7m>\u001b[m\n",
      "NC_001542.1     RefSeq  CDS     1514    2407    .       +       0       ID=cds-\u001b[7m>\u001b[m\n",
      "NC_001542.1     RefSeq  gene    2481    3285    .       +       .       ID=gene\u001b[7m>\u001b[m\n",
      "NC_001542.1     RefSeq  mRNA    2481    3285    .       +       .       ID=rna-\u001b[7m>\u001b[m\n",
      "NC_001542.1     RefSeq  exon    2481    3285    .       +       .       ID=exon\u001b[7m>\u001b[m\n",
      "NC_001542.1     RefSeq  CDS     2496    3104    .       +       0       ID=cds-\u001b[7m>\u001b[m\n",
      "NC_001542.1     RefSeq  gene    3291    4964    .       +       .       ID=gene\u001b[7m>\u001b[m\n",
      "NC_001542.1     RefSeq  mRNA    3291    4964    .       +       .       ID=rna-\u001b[7m>\u001b[m\n",
      "NC_001542.1     RefSeq  exon    3291    4964    .       +       .       ID=exon\u001b[7m>\u001b[m\n",
      "NC_001542.1     RefSeq  CDS     3318    4892    .       +       0       ID=cds-\u001b[7m>\u001b[m\n",
      "NC_001542.1     RefSeq  gene    5388    11863   .       +       .       ID=gene\u001b[7m>\u001b[m\n",
      "NC_001542.1     RefSeq  mRNA    5388    11863   .       +       .       ID=rna-\u001b[7m>\u001b[m\n",
      "NC_001542.1     RefSeq  exon    5388    11863   .       +       .       ID=exon\u001b[7m>\u001b[m\n",
      "NC_001542.1     RefSeq  CDS     5418    11846   .       +       0       ID=cds-\u001b[7m>\u001b[m\n",
      "\u001b[K:\u001b[Ka/filtered/rabies_lyssavirus.gff3\u001b[m\u001b[K\u0007"
     ]
    }
   ],
   "source": [
    "# less -S archivo.gff3\n",
    "!less -S data/filtered/rabies_lyssavirus.gff3"
   ]
  },
  {
   "cell_type": "markdown",
   "id": "ff644892",
   "metadata": {},
   "source": [
    "El comando `less` muestra el archivo que le pasemos como parámetro por páginas, es decir, no se carga el contenido del archivo completo, solo una parte.\n",
    "El comando`less -S` hace lo mismo pero además, en caso de que los renglones del archivo sean muy largos, los parte en pedazos y se puede mover de forma horizontal el archivo para ver el contenido"
   ]
  },
  {
   "cell_type": "markdown",
   "id": "3ae3acd0",
   "metadata": {},
   "source": [
    "* Entra a tu carpeta de `filtered` utilizando una ruta relativa. "
   ]
  },
  {
   "cell_type": "code",
   "execution_count": 21,
   "id": "b0760858",
   "metadata": {},
   "outputs": [],
   "source": [
    "# Comando\n",
    "!cd data/filtered"
   ]
  },
  {
   "cell_type": "markdown",
   "id": "05e29667",
   "metadata": {},
   "source": [
    "* Cambia el nombre del archivo que tienes aquí por `cp_nombre_bicho.gff` (en `nombre_bicho` tienes que poner el nombre científico del organismo que elegiste)."
   ]
  },
  {
   "cell_type": "code",
   "execution_count": 28,
   "id": "8f115cc1",
   "metadata": {},
   "outputs": [],
   "source": [
    "# Comando para cambiar nombre de un archivo\n",
    "!mv rabies_lyssavirus.gff3 cp_rabies_lyssavirus.gff3"
   ]
  },
  {
   "cell_type": "markdown",
   "id": "0fb010a5",
   "metadata": {},
   "source": [
    "* Filtra el tercer campo de tu archivo `gff` por la categoría `gene` y reporta la cantidad de genes que tiene el archivo. Contesta: \n",
    "\n",
    "1. ¿A qué corresponde el campo tres? \n",
    "2. ¿Cuál es la diferencia entre gene y CDS?"
   ]
  },
  {
   "cell_type": "code",
   "execution_count": 29,
   "id": "88dd5a4a",
   "metadata": {},
   "outputs": [
    {
     "name": "stdout",
     "output_type": "stream",
     "text": [
      "5\r\n"
     ]
    }
   ],
   "source": [
    "# Comando para conocer cuántos genes hay\n",
    "!awk '($3 == \"gene\"){count++} END {print count}' cp_rabies_lyssavirus.gff3 "
   ]
  },
  {
   "cell_type": "markdown",
   "id": "fd3e0004",
   "metadata": {},
   "source": [
    "1. El campo tres indica el tipo de transcrito que hay en los  genes. Puede ser un gen, tRNA, rRNA, tmRNA, etc.\n",
    "2. CDS es la region de codificacion de un gen, es la parte del gen que codifica un transcrito, en cambio el gen tiene a toda la secuencia completa incluyendo intrones."
   ]
  },
  {
   "cell_type": "markdown",
   "id": "f9c99f53",
   "metadata": {},
   "source": [
    "## Parte III. Visualización con Python"
   ]
  },
  {
   "cell_type": "markdown",
   "id": "5498391f",
   "metadata": {},
   "source": [
    "* En tu archivo `gff`, identifica cuántas categorías distintas existen en el campo 3 y cuántas veces aparecen. Redirecciona la salida a un archivo que se llame `barplot_data.txt`"
   ]
  },
  {
   "cell_type": "code",
   "execution_count": 1,
   "id": "ca6c6c5e",
   "metadata": {},
   "outputs": [
    {
     "name": "stdout",
     "output_type": "stream",
     "text": [
      "awk: cannot open data/raw_data/rabies_lyssavirus.gff3 (No such file or directory)\r\n"
     ]
    }
   ],
   "source": [
    "# Comando\n",
    "!awk 'BEGIN{print \"Columna:\"}; {tipo[$3] +=1}; END {for (i in tipo) {if (i != \"\") {print i \"\\t\" tipo[i]}}}' data/raw_data/rabies_lyssavirus.gff3 > barplot_data.txt\n"
   ]
  },
  {
   "cell_type": "markdown",
   "id": "f0d4427e",
   "metadata": {},
   "source": [
    "* Crea una figura a partir de `barplot_data.txt`, para esto puedes utiliza el siguiete script de Python para generar una figura. \n",
    "\n",
    "```python\n",
    "\n",
    "import numpy as np\n",
    "import matplotlib.pyplot as plt\n",
    "from textwrap import wrap\n",
    "\n",
    "# Crea el dataset con tus datos obtenidos en barplot_data.txt\n",
    "frecuencias = [3, 12, 5, 18, 45]\n",
    "# Cambia el nombre de las categorías por las que obtuviste no lo dejes como \"Categoría A\", etc.\n",
    "categorias = ['Categoría A', 'Categoría B', 'Categoría C', 'Categoría D', 'Categoría E']\n",
    "categorias = [ ''.join(wrap(l, 11)) for l in categorias]\n",
    "\n",
    "y_pos = np.arange(len(categorias))\n",
    "\n",
    "# Gráfico de barras\n",
    "plt.bar(y_pos, frecuencias)\n",
    "\n",
    "# Nombres en el eje-x\n",
    "plt.xticks(y_pos, categorias)\n",
    "\n",
    "# Mostrar la gráfica\n",
    "plt.show()\n",
    "\n",
    "```\n",
    "\n",
    "También puedes generar tu figura con R o Julia, **prohibido** usar Excel.\n",
    "\n",
    "* Guarda la figura en tu carpeta `figures` con el nombre `barplot.png`.\n",
    "* Guardar el código que utilizaste en la carpeta `scripts`, lo puedes guardar en cualquier formato. "
   ]
  },
  {
   "cell_type": "markdown",
   "id": "b4cd5fba",
   "metadata": {},
   "source": [
    "* Guarda tu libreta de `Jupyter` o tu `md` con tu nombre, las preguntas, los comandos y los outputs en la carpeta `scripts`. \n",
    "\n",
    "* Comprime tu carpeta `p2_nombre_apellido` y súbela en la sección de Classroom correspondiente."
   ]
  }
 ],
 "metadata": {
  "kernelspec": {
   "display_name": "Python 3 (ipykernel)",
   "language": "python",
   "name": "python3"
  },
  "language_info": {
   "codemirror_mode": {
    "name": "ipython",
    "version": 3
   },
   "file_extension": ".py",
   "mimetype": "text/x-python",
   "name": "python",
   "nbconvert_exporter": "python",
   "pygments_lexer": "ipython3",
   "version": "3.8.10"
  }
 },
 "nbformat": 4,
 "nbformat_minor": 5
}
